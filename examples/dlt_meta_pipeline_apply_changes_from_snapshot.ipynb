{
 "cells": [
  {
   "cell_type": "code",
   "execution_count": 0,
   "metadata": {
    "application/vnd.databricks.v1+cell": {
     "cellMetadata": {},
     "inputWidgets": {},
     "nuid": "6a831720-0c07-4d8d-a00a-55ddac55dac7",
     "showTitle": false,
     "tableResultSettingsMap": {},
     "title": ""
    }
   },
   "outputs": [],
   "source": [
    "%pip install dlt-meta"
   ]
  },
  {
   "cell_type": "code",
   "execution_count": 0,
   "metadata": {
    "application/vnd.databricks.v1+cell": {
     "cellMetadata": {},
     "inputWidgets": {},
     "nuid": "71cf9cd1-03fd-45af-9e83-641e78e57cb0",
     "showTitle": true,
     "tableResultSettingsMap": {},
     "title": "DLT Snapshot Processing Logic"
    }
   },
   "outputs": [],
   "source": [
    "import dlt\n",
    "from src.dataflow_spec import BronzeDataflowSpec\n",
    "\n",
    "# Returns True if the path exists, False otherwise\n",
    "def exist(path):\n",
    "    try:\n",
    "        if dbutils.fs.ls(path) is None:\n",
    "            return False\n",
    "        else:\n",
    "            return True\n",
    "    except:\n",
    "        return False\n",
    "\n",
    "# Returns the next snapshot and version number. If no snapshot is available, returns None\n",
    "# You can write your own logic to determine the next snapshot and version number \n",
    "# Pass this function to DataflowPipeline.invoke_dlt_pipeline method as a parameter\n",
    "def next_snapshot_and_version(latest_snapshot_version, dataflow_spec):\n",
    "    latest_snapshot_version = latest_snapshot_version or 0\n",
    "    next_version = latest_snapshot_version + 1    \n",
    "    bronze_dataflow_spec: BronzeDataflowSpec = dataflow_spec\n",
    "    options = bronze_dataflow_spec.readerConfigOptions\n",
    "    snapshot_format =  bronze_dataflow_spec.sourceDetails[\"snapshot_format\"]\n",
    "    snapshot_root_path = bronze_dataflow_spec.sourceDetails['path']    \n",
    "    snapshot_path = f\"{snapshot_root_path}{next_version}.csv\"\n",
    "    if (exist(snapshot_path)):\n",
    "        snapshot = spark.read.format(snapshot_format).options(**options).load(snapshot_path)\n",
    "        return (snapshot, next_version)\n",
    "    else:\n",
    "        # No snapshot available\n",
    "        return None \n"
   ]
  },
  {
   "cell_type": "code",
   "execution_count": 0,
   "metadata": {
    "application/vnd.databricks.v1+cell": {
     "cellMetadata": {},
     "inputWidgets": {},
     "nuid": "456e6a57-4a71-495c-bbfd-91e832d98a39",
     "showTitle": false,
     "tableResultSettingsMap": {},
     "title": ""
    }
   },
   "outputs": [],
   "source": [
    "layer = spark.conf.get(\"layer\", None)\n",
    "from src.dataflow_pipeline import DataflowPipeline\n",
    "DataflowPipeline.invoke_dlt_pipeline(spark, layer, next_snapshot_and_version=next_snapshot_and_version)"
   ]
  }
 ],
 "metadata": {
  "application/vnd.databricks.v1+notebook": {
   "computePreferences": null,
   "dashboards": [],
   "environmentMetadata": null,
   "language": "python",
   "notebookMetadata": {
    "pythonIndentUnit": 2
   },
   "notebookName": "init_dlt_meta_pipeline.py",
   "widgets": {}
  },
  "language_info": {
   "name": "python"
  }
 },
 "nbformat": 4,
 "nbformat_minor": 0
}
