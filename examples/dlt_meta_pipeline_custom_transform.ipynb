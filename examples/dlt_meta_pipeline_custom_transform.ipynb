{
 "cells": [
  {
   "cell_type": "code",
   "execution_count": null,
   "metadata": {
    "application/vnd.databricks.v1+cell": {
     "cellMetadata": {},
     "inputWidgets": {},
     "nuid": "18a5c12b-aa41-4465-b189-353db4370f83",
     "showTitle": false,
     "title": ""
    }
   },
   "outputs": [],
   "source": [
    "%pip install dlt-meta"
   ]
  },
  {
   "cell_type": "code",
   "execution_count": null,
   "metadata": {},
   "outputs": [],
   "source": [
    "from pyspark.sql import DataFrame\n",
    "from pyspark.sql.functions import lit\n",
    "def custom_transform_func_test(input_df) -> DataFrame:\n",
    "  return input_df.withColumn('custom_col', lit('test'))"
   ]
  },
  {
   "cell_type": "code",
   "execution_count": null,
   "metadata": {
    "application/vnd.databricks.v1+cell": {
     "cellMetadata": {},
     "inputWidgets": {},
     "nuid": "de72e08f-5432-4e56-b17d-cadee25b4714",
     "showTitle": false,
     "title": ""
    }
   },
   "outputs": [],
   "source": [
    "layer = spark.conf.get(\"layer\", None)\n",
    "from src.dataflow_pipeline import DataflowPipeline\n",
    "DataflowPipeline.invoke_dlt_pipeline(spark, layer, custom_transform_func_test=custom_transform_func_test)"
   ]
  }
 ],
 "metadata": {
  "application/vnd.databricks.v1+notebook": {
   "dashboards": [],
   "language": "python",
   "notebookMetadata": {
    "pythonIndentUnit": 2
   },
   "notebookName": "dlt_meta_pipeline",
   "notebookOrigID": 4156927443107021,
   "widgets": {}
  },
  "language_info": {
   "name": "python"
  }
 },
 "nbformat": 4,
 "nbformat_minor": 0
}
