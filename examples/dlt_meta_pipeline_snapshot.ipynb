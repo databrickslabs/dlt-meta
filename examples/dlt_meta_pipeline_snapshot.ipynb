{
 "cells": [
  {
   "cell_type": "code",
   "execution_count": null,
   "metadata": {
    "application/vnd.databricks.v1+cell": {
     "cellMetadata": {},
     "inputWidgets": {},
     "nuid": "18a5c12b-aa41-4465-b189-353db4370f83",
     "showTitle": false,
     "title": ""
    }
   },
   "outputs": [],
   "source": [
    "%pip install dlt-meta"
   ]
  },
  {
   "cell_type": "code",
   "execution_count": null,
   "metadata": {},
   "outputs": [],
   "source": [
    "# Databricks notebook source\n",
    "# DBTITLE 1,DLT Snapshot Processing Logic\n",
    "import dlt\n",
    "from src.dataflow_spec import BronzeDataflowSpec\n",
    "\n",
    "def exist(path):\n",
    "    try:\n",
    "        if dbutils.fs.ls(path) is None:\n",
    "            return False\n",
    "        else:\n",
    "            return True\n",
    "    except:\n",
    "        return False\n",
    "\n",
    "\n",
    "def next_snapshot_and_version(latest_snapshot_version, dataflow_spec):\n",
    "    latest_snapshot_version = latest_snapshot_version or 0\n",
    "    next_version = latest_snapshot_version + 1    \n",
    "    bronze_dataflow_spec: BronzeDataflowSpec = dataflow_spec\n",
    "    options = bronze_dataflow_spec.readerConfigOptions\n",
    "    snapshot_format =  bronze_dataflow_spec.sourceDetails[\"snapshot_format\"]\n",
    "    snapshot_root_path = bronze_dataflow_spec.sourceDetails['path']    \n",
    "    snapshot_path = f\"{snapshot_root_path}{next_version}.csv\"\n",
    "    if (exist(snapshot_path)):\n",
    "        snapshot = spark.read.format(snapshot_format).options(**options).load(snapshot_path)\n",
    "        return (snapshot, next_version)\n",
    "    else:\n",
    "        # No snapshot available\n",
    "        return None \n"
   ]
  },
  {
   "cell_type": "code",
   "execution_count": null,
   "metadata": {
    "application/vnd.databricks.v1+cell": {
     "cellMetadata": {},
     "inputWidgets": {},
     "nuid": "de72e08f-5432-4e56-b17d-cadee25b4714",
     "showTitle": false,
     "title": ""
    }
   },
   "outputs": [],
   "source": [
    "layer = spark.conf.get(\"layer\", None)\n",
    "\n",
    "from src.dataflow_pipeline import DataflowPipeline\n",
    "DataflowPipeline.invoke_dlt_pipeline(spark, layer, next_snapshot_and_version=next_snapshot_and_version)"
   ]
  }
 ],
 "metadata": {
  "application/vnd.databricks.v1+notebook": {
   "dashboards": [],
   "language": "python",
   "notebookMetadata": {
    "pythonIndentUnit": 2
   },
   "notebookName": "dlt_meta_pipeline",
   "notebookOrigID": 4156927443107021,
   "widgets": {}
  },
  "language_info": {
   "name": "python"
  }
 },
 "nbformat": 4,
 "nbformat_minor": 0
}
